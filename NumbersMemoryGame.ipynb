{
 "cells": [
  {
   "cell_type": "code",
   "execution_count": 1,
   "id": "c7c3f07f",
   "metadata": {},
   "outputs": [
    {
     "name": "stdout",
     "output_type": "stream",
     "text": [
      "Requirement already satisfied: emoji in c:\\users\\carol\\anaconda3\\lib\\site-packages (1.6.3)\n"
     ]
    }
   ],
   "source": [
    "from numpy import random\n",
    "import time\n",
    "!pip install emoji"
   ]
  },
  {
   "cell_type": "code",
   "execution_count": 32,
   "id": "1676ac03",
   "metadata": {},
   "outputs": [],
   "source": [
    "def cabecalho():\n",
    "    print (\"\\033[95m\\033[1m\"\"VAMOS COMEÇAR!\"\"\\033[95m\\033[0m\") \n",
    "    time.sleep(1)\n",
    "    print (\"\\n\"\n",
    "           \"Nesse jogo você precisará memorizar a sequência de números que será passada para ir para o próximo nível\")\n",
    "    time.sleep(4)\n",
    "    print (\"\\n\"\n",
    "        \"Te desejo sorte!\"\n",
    "          \"\\n\" )\n",
    "    time.sleep(1)\n",
    "    print (\"(ou não)\"\n",
    "          \"\\n\" )\n",
    "    time.sleep(1)\n",
    "    print (\"(ou não)\"\n",
    "          \"\\n\"\n",
    "          \"\\U0001F680 \\U0001F60E\")\n",
    "    time.sleep(1)\n",
    "    print (\"\\033[91m\\033[1m\"\"\\U0001F6A8 \\U0001F6A8 \\U0001F6A8 PRESTA ATENÇÃO! LÁ VAI \\U0001F6A8 \\U0001F6A8 \\U0001F6A8\"\"\\033[91m\\033[0m\"\n",
    "          \"\\n\")\n",
    "    print (\"\\n\"\n",
    "            \"O NÚMERO É:\"\n",
    "            \"\\n\")"
   ]
  },
  {
   "cell_type": "code",
   "execution_count": 16,
   "id": "58f93f5a",
   "metadata": {},
   "outputs": [],
   "source": [
    "def tamanho_numero(tamanho):\n",
    "    string_guess = str(random.randint(1,9))\n",
    "    for x in range(tamanho):\n",
    "        string_guess += str(random.randint(1,9))\n",
    "    return string_guess"
   ]
  },
  {
   "cell_type": "code",
   "execution_count": 44,
   "id": "10a0363c",
   "metadata": {},
   "outputs": [],
   "source": [
    "def verificacaointeiro():\n",
    "    flag = True\n",
    "    while flag:\n",
    "        resprodada = input('E AÍ? LEMBRA?''\\n')\n",
    "        try:      \n",
    "            resprodada = int(resprodada)\n",
    "            flag = False\n",
    "            return resprodada\n",
    "        except:\n",
    "            print (f'DIGITE UM NÚMERO INTEIRO!')\n",
    "            continue"
   ]
  },
  {
   "cell_type": "code",
   "execution_count": 42,
   "id": "a645a426",
   "metadata": {},
   "outputs": [],
   "source": [
    "def jogosequencia():\n",
    "    valores = []\n",
    "    rodada = []\n",
    "    resprodada=0\n",
    "    #função que entra com os textos iniciais\n",
    "    cabecalho()\n",
    "    valores =[]\n",
    "    for i in range(100):\n",
    "        #utilizando a função para selecionar os números com tamanhos e dígitos diferentes sem utilizar o randint\n",
    "        valores.append(tamanho_numero(i))\n",
    "        #criando uma lista com os números: x, xx, xxx, xxxx, xxxxx, xxxxxx...\n",
    "    for i in range (100):\n",
    "        #apaga o número que apareceu na linha anterior\n",
    "        time.sleep(2)            \n",
    "        print(valores[i], end='')\n",
    "        time.sleep(1)\n",
    "        print('\\r'+' '*len(str(valores[i])), end='\\r')\n",
    "        resprodada = verificacaointeiro()\n",
    "        #verifica se o valor digitado é inteiro ou str e manda digitar um inteiro!\n",
    "        if str(resprodada) == str(valores[i]):\n",
    "            print (\"\\n\"\n",
    "                   \"Parabéns! Você passou para o próximo nível! \\U0001F44F\"\n",
    "                    \"\\n\"\n",
    "                  \"O próximo número é:\"\n",
    "                  \"\\n\")\n",
    "        else:\n",
    "            print (\"\\n\"\n",
    "                   \"\\033[91m\\033[1m\"\"VOCÊ ERROU \\U0001F625\"\"\\033[91m\\033[0m\"  \n",
    "                   \"\\nO JOGO CHEGOU AO FINAL, SEU SCORE É: NÍVEL\", (i+1), \"E AÍ ARRASOU??? \\U0001F680\\U0001F680\\U0001F680\") \n",
    "            break\n",
    "    time.sleep(3)       \n",
    "    print (\"\\n\"\n",
    "        'Vai jogar de novo, né?!\\U0001F60F')\n",
    "    "
   ]
  },
  {
   "cell_type": "code",
   "execution_count": 45,
   "id": "d6502397",
   "metadata": {},
   "outputs": [
    {
     "name": "stdout",
     "output_type": "stream",
     "text": [
      "\u001b[95m\u001b[1mVAMOS COMEÇAR!\u001b[95m\u001b[0m\n",
      "\n",
      "Nesse jogo você precisará memorizar a sequência de números que será passada para ir para o próximo nível\n",
      "\n",
      "Te desejo sorte!\n",
      "\n",
      "(ou não)\n",
      "\n",
      "(ou não)\n",
      "🚀 😎\n",
      "\u001b[91m\u001b[1m🚨 🚨 🚨 PRESTA ATENÇÃO! LÁ VAI 🚨 🚨 🚨\u001b[91m\u001b[0m\n",
      "\n",
      "\n",
      "O NÚMERO É:\n",
      "\n",
      "E AÍ? LEMBRA?\n",
      "a\n",
      "DIGITE UM NÚMERO INTEIRO!\n",
      "E AÍ? LEMBRA?\n",
      "a\n",
      "DIGITE UM NÚMERO INTEIRO!\n",
      "E AÍ? LEMBRA?\n",
      "sss\n",
      "DIGITE UM NÚMERO INTEIRO!\n",
      "E AÍ? LEMBRA?\n",
      "5\n",
      "\n",
      "Parabéns! Você passou para o próximo nível! 👏\n",
      "O próximo número é:\n",
      "\n",
      "E AÍ? LEMBRA?\n",
      "e,\n",
      "DIGITE UM NÚMERO INTEIRO!\n",
      "E AÍ? LEMBRA?\n",
      "25\n",
      "\n",
      "\u001b[91m\u001b[1mVOCÊ ERROU 😥\u001b[91m\u001b[0m\n",
      "O JOGO CHEGOU AO FINAL, SEU SCORE É: NÍVEL 2 E AÍ ARRASOU??? 🚀🚀🚀\n",
      "\n",
      "Vai jogar de novo, né?!😏\n"
     ]
    }
   ],
   "source": [
    "jogosequencia()"
   ]
  },
  {
   "cell_type": "code",
   "execution_count": null,
   "id": "a7bdb8c9",
   "metadata": {},
   "outputs": [],
   "source": []
  },
  {
   "cell_type": "code",
   "execution_count": null,
   "id": "6d9cdfd3",
   "metadata": {},
   "outputs": [],
   "source": []
  }
 ],
 "metadata": {
  "kernelspec": {
   "display_name": "Python 3 (ipykernel)",
   "language": "python",
   "name": "python3"
  },
  "language_info": {
   "codemirror_mode": {
    "name": "ipython",
    "version": 3
   },
   "file_extension": ".py",
   "mimetype": "text/x-python",
   "name": "python",
   "nbconvert_exporter": "python",
   "pygments_lexer": "ipython3",
   "version": "3.9.7"
  }
 },
 "nbformat": 4,
 "nbformat_minor": 5
}
